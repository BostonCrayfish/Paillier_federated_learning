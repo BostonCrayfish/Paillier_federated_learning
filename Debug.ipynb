{
 "cells": [
  {
   "cell_type": "markdown",
   "metadata": {},
   "source": [
    "## 1. Data Prepare"
   ]
  },
  {
   "cell_type": "code",
   "execution_count": 8,
   "metadata": {},
   "outputs": [
    {
     "name": "stderr",
     "output_type": "stream",
     "text": [
      "100%|██████████| 60000/60000 [00:00<00:00, 1828180.89it/s]\n"
     ]
    }
   ],
   "source": [
    "from models.Trainer import *\n",
    "dataset='mnist'\n",
    "class_num=10\n",
    "\n",
    "net_glob,train_loder,test_loader=get_net_and_loader(dataset=dataset,mode=\"ALL\")\n",
    "\n",
    "traindata=train_loder.dataset.train_data\n",
    "targetdata=train_loder.dataset.train_labels\n",
    "\n",
    "import os\n",
    "from PIL import Image\n",
    "from tqdm import tqdm\n",
    "\n",
    "def save(x,i):\n",
    "    #plt.figure(dpi=80)\n",
    "    #data=np.transpose(x.cpu().numpy(), (1,2,0))\n",
    "    data=x.cpu().numpy()\n",
    "    # plt.imshow(data,cmap='gray') \n",
    "    # plt.axis('off')\n",
    "    # plt.show()\n",
    "    im = Image.fromarray(data)\n",
    "    im.save(i)\n",
    "    \n",
    "dir_name='data/{}/train'.format(dataset)\n",
    "    \n",
    "for i in range(class_num):\n",
    "    child_dir_name='{}/{}/'.format(dir_name,i)\n",
    "    if not os.path.isdir(child_dir_name):\n",
    "        mkdir_p(child_dir_name)\n",
    "    \n",
    "for i in tqdm(range(len(traindata))):\n",
    "    #show(traindata[i],'{}/{}/{}_{}.jpg'.format(dir_name,targetdata[i],targetdata[i],i))\n",
    "    pass\n"
   ]
  },
  {
   "cell_type": "code",
   "execution_count": 9,
   "metadata": {},
   "outputs": [],
   "source": [
    "from models.sampling import *\n",
    "\n",
    "class DatasetSplit(Dataset):\n",
    "    def __init__(self, traindata,targetdata, idxs):\n",
    "        self.traindata = traindata\n",
    "        self.targetdata= targetdata\n",
    "        self.idxs = list(idxs)\n",
    "\n",
    "    def __len__(self):\n",
    "        return len(self.idxs)\n",
    "\n",
    "    def __getitem__(self, item):\n",
    "        print(self.idxs[item])\n",
    "        image, label = self.traindata[self.idxs[item]],self.targetdata[self.idxs[item]]\n",
    "        return image, label\n",
    "    \n",
    "def save_dataset(dataset,dir_name):\n",
    "    traindata = dataset.traindata\n",
    "    targetdata= dataset.targetdata\n",
    "    if not os.path.isdir(dir_name):\n",
    "        mkdir_p(dir_name)\n",
    "    \n",
    "    for i in range(class_num):\n",
    "        child_dir_name='{}/{}/'.format(dir_name,i)\n",
    "        if not os.path.isdir(child_dir_name):\n",
    "            mkdir_p(child_dir_name)\n",
    "    \n",
    "    for i in tqdm(range(len(traindata))):\n",
    "        data=traindata[i].cpu().numpy()\n",
    "        #im = Image.fromarray(data)\n",
    "        #save(traindata[i],'{}/{}/{}_{}.jpg'.format(dir_name,targetdata[i],targetdata[i],i))\n",
    "\n",
    "dict_users = mnist_iid(traindata, 4)\n",
    "\n",
    "for idx in dict_users:\n",
    "    x=DatasetSplit(traindata,targetdata, dict_users[idx])\n",
    "    dir_name='test_data/{}/train/part_{}'.format(dataset,idx)\n",
    "    #save_dataset(x,dir_name)"
   ]
  },
  {
   "cell_type": "markdown",
   "metadata": {},
   "source": [
    "## 2. Socket test"
   ]
  },
  {
   "cell_type": "code",
   "execution_count": 11,
   "metadata": {},
   "outputs": [],
   "source": [
    "import socket\n",
    "sock=socket.socket()\n",
    "sock.connect((\"localhost\",22))"
   ]
  },
  {
   "cell_type": "code",
   "execution_count": 13,
   "metadata": {},
   "outputs": [
    {
     "name": "stdout",
     "output_type": "stream",
     "text": [
      "dict_keys(['layer_hidden.bias', 'layer_hidden.weight', 'layer_input.weight', 'layer_input.bias'])\n",
      "204851\n",
      "dict_keys(['layer_hidden.bias', 'layer_hidden.weight', 'layer_input.bias', 'layer_input.weight'])\n"
     ]
    }
   ],
   "source": [
    "import collections\n",
    "import pandas as pd\n",
    "from io import StringIO\n",
    "import pickle\n",
    "w=net_glob.cpu().state_dict()\n",
    "w=dict(w)\n",
    "\n",
    "#data = dict({key:value.numpy() for key,value in w.items()})\n",
    "print(w.keys())\n",
    "w1=pickle.dumps(w)\n",
    "print(len(w1))\n",
    "w2=pickle.loads(w1) \n",
    "print(w2.keys())\n",
    "net_glob.load_state_dict(w2)\n"
   ]
  },
  {
   "cell_type": "markdown",
   "metadata": {},
   "source": [
    "## 3. Paillier"
   ]
  },
  {
   "cell_type": "code",
   "execution_count": 17,
   "metadata": {},
   "outputs": [
    {
     "name": "stdout",
     "output_type": "stream",
     "text": [
      "Processing /home/dsjxtjc/2019211333/.cache/pip/wheels/f8/dc/36/dcb6bf0f1b9907e7b710ace63e64d08e7022340909315fdea4/phe-1.4.0-py2.py3-none-any.whl\n",
      "Installing collected packages: phe\n",
      "\u001b[33m  WARNING: The script pheutil is installed in '/home/dsjxtjc/2019211333/.local/bin' which is not on PATH.\n",
      "  Consider adding this directory to PATH or, if you prefer to suppress this warning, use --no-warn-script-location.\u001b[0m\n",
      "Successfully installed phe-1.4.0\n"
     ]
    }
   ],
   "source": [
    "!pip install phe --user"
   ]
  },
  {
   "cell_type": "code",
   "execution_count": 82,
   "metadata": {},
   "outputs": [
    {
     "name": "stdout",
     "output_type": "stream",
     "text": [
      "origin: 6.4\n",
      "<class 'numpy.float64'>\n",
      "encrypt: <phe.paillier.EncryptedNumber object at 0x7ff2a46d8e10>\n",
      "decrypt: 6.4\n"
     ]
    }
   ],
   "source": [
    "from phe import paillier\n",
    "from functools import reduce \n",
    "import numpy as np\n",
    "\n",
    "def sum(listdata):\n",
    "    return reduce(lambda x, y: x + y, listdata)\n",
    "\n",
    "x=np.array([1.1,2.2,3.1])\n",
    "print(\"origin: %s\" % (sum(x)))\n",
    "public_key,private_key=paillier.generate_paillier_keypair()\n",
    "encrypt_data=[public_key.encrypt(i) for i in x]\n",
    "\n",
    "print(type(x[0]))\n",
    "encrypt_sum = sum(encrypt_data)\n",
    "print(\"encrypt: %s\" % (encrypt_sum))\n",
    "\n",
    "decrypt_sum=private_key.decrypt(encrypt_sum)\n",
    "print(\"decrypt: %s\" % (decrypt_sum))\n"
   ]
  },
  {
   "cell_type": "code",
   "execution_count": 108,
   "metadata": {},
   "outputs": [
    {
     "name": "stderr",
     "output_type": "stream",
     "text": [
      " 19%|█▊        | 9397/50176 [19:30<1:24:01,  8.09it/s]"
     ]
    },
    {
     "ename": "KeyboardInterrupt",
     "evalue": "",
     "output_type": "error",
     "traceback": [
      "\u001b[0;31m---------------------------------------------------------------------------\u001b[0m",
      "\u001b[0;31mKeyboardInterrupt\u001b[0m                         Traceback (most recent call last)",
      "\u001b[0;32m<ipython-input-108-8ab0c3b73994>\u001b[0m in \u001b[0;36m<module>\u001b[0;34m\u001b[0m\n\u001b[1;32m      7\u001b[0m     \u001b[0mnpv\u001b[0m\u001b[0;34m=\u001b[0m\u001b[0mvalue\u001b[0m\u001b[0;34m.\u001b[0m\u001b[0mnumpy\u001b[0m\u001b[0;34m(\u001b[0m\u001b[0;34m)\u001b[0m\u001b[0;34m.\u001b[0m\u001b[0mflatten\u001b[0m\u001b[0;34m(\u001b[0m\u001b[0;34m)\u001b[0m\u001b[0;34m\u001b[0m\u001b[0m\n\u001b[1;32m      8\u001b[0m     \u001b[0;32mfor\u001b[0m \u001b[0mitem\u001b[0m \u001b[0;32min\u001b[0m \u001b[0mtqdm\u001b[0m\u001b[0;34m(\u001b[0m\u001b[0mnpv\u001b[0m\u001b[0;34m)\u001b[0m\u001b[0;34m:\u001b[0m\u001b[0;34m\u001b[0m\u001b[0m\n\u001b[0;32m----> 9\u001b[0;31m         \u001b[0mout\u001b[0m\u001b[0;34m=\u001b[0m\u001b[0mpublic_key\u001b[0m\u001b[0;34m.\u001b[0m\u001b[0mencrypt\u001b[0m\u001b[0;34m(\u001b[0m\u001b[0mitem\u001b[0m\u001b[0;34m.\u001b[0m\u001b[0mastype\u001b[0m\u001b[0;34m(\u001b[0m\u001b[0mnp\u001b[0m\u001b[0;34m.\u001b[0m\u001b[0mfloat64\u001b[0m\u001b[0;34m)\u001b[0m\u001b[0;34m)\u001b[0m\u001b[0;34m\u001b[0m\u001b[0m\n\u001b[0m\u001b[1;32m     10\u001b[0m     \u001b[0;31m#%time out = list(map(lambda item: public_key.encrypt(item.astype(np.float64)), npv))\u001b[0m\u001b[0;34m\u001b[0m\u001b[0;34m\u001b[0m\u001b[0m\n\u001b[1;32m     11\u001b[0m \u001b[0;34m\u001b[0m\u001b[0m\n",
      "\u001b[0;32m~/.local/lib/python3.5/site-packages/phe/paillier.py\u001b[0m in \u001b[0;36mencrypt\u001b[0;34m(self, value, precision, r_value)\u001b[0m\n\u001b[1;32m    169\u001b[0m             \u001b[0mencoding\u001b[0m \u001b[0;34m=\u001b[0m \u001b[0mEncodedNumber\u001b[0m\u001b[0;34m.\u001b[0m\u001b[0mencode\u001b[0m\u001b[0;34m(\u001b[0m\u001b[0mself\u001b[0m\u001b[0;34m,\u001b[0m \u001b[0mvalue\u001b[0m\u001b[0;34m,\u001b[0m \u001b[0mprecision\u001b[0m\u001b[0;34m)\u001b[0m\u001b[0;34m\u001b[0m\u001b[0m\n\u001b[1;32m    170\u001b[0m \u001b[0;34m\u001b[0m\u001b[0m\n\u001b[0;32m--> 171\u001b[0;31m         \u001b[0;32mreturn\u001b[0m \u001b[0mself\u001b[0m\u001b[0;34m.\u001b[0m\u001b[0mencrypt_encoded\u001b[0m\u001b[0;34m(\u001b[0m\u001b[0mencoding\u001b[0m\u001b[0;34m,\u001b[0m \u001b[0mr_value\u001b[0m\u001b[0;34m)\u001b[0m\u001b[0;34m\u001b[0m\u001b[0m\n\u001b[0m\u001b[1;32m    172\u001b[0m \u001b[0;34m\u001b[0m\u001b[0m\n\u001b[1;32m    173\u001b[0m     \u001b[0;32mdef\u001b[0m \u001b[0mencrypt_encoded\u001b[0m\u001b[0;34m(\u001b[0m\u001b[0mself\u001b[0m\u001b[0;34m,\u001b[0m \u001b[0mencoding\u001b[0m\u001b[0;34m,\u001b[0m \u001b[0mr_value\u001b[0m\u001b[0;34m)\u001b[0m\u001b[0;34m:\u001b[0m\u001b[0;34m\u001b[0m\u001b[0m\n",
      "\u001b[0;32m~/.local/lib/python3.5/site-packages/phe/paillier.py\u001b[0m in \u001b[0;36mencrypt_encoded\u001b[0;34m(self, encoding, r_value)\u001b[0m\n\u001b[1;32m    187\u001b[0m         \u001b[0mencrypted_number\u001b[0m \u001b[0;34m=\u001b[0m \u001b[0mEncryptedNumber\u001b[0m\u001b[0;34m(\u001b[0m\u001b[0mself\u001b[0m\u001b[0;34m,\u001b[0m \u001b[0mciphertext\u001b[0m\u001b[0;34m,\u001b[0m \u001b[0mencoding\u001b[0m\u001b[0;34m.\u001b[0m\u001b[0mexponent\u001b[0m\u001b[0;34m)\u001b[0m\u001b[0;34m\u001b[0m\u001b[0m\n\u001b[1;32m    188\u001b[0m         \u001b[0;32mif\u001b[0m \u001b[0mr_value\u001b[0m \u001b[0;32mis\u001b[0m \u001b[0;32mNone\u001b[0m\u001b[0;34m:\u001b[0m\u001b[0;34m\u001b[0m\u001b[0m\n\u001b[0;32m--> 189\u001b[0;31m             \u001b[0mencrypted_number\u001b[0m\u001b[0;34m.\u001b[0m\u001b[0mobfuscate\u001b[0m\u001b[0;34m(\u001b[0m\u001b[0;34m)\u001b[0m\u001b[0;34m\u001b[0m\u001b[0m\n\u001b[0m\u001b[1;32m    190\u001b[0m         \u001b[0;32mreturn\u001b[0m \u001b[0mencrypted_number\u001b[0m\u001b[0;34m\u001b[0m\u001b[0m\n\u001b[1;32m    191\u001b[0m \u001b[0;34m\u001b[0m\u001b[0m\n",
      "\u001b[0;32m~/.local/lib/python3.5/site-packages/phe/paillier.py\u001b[0m in \u001b[0;36mobfuscate\u001b[0;34m(self)\u001b[0m\n\u001b[1;32m    610\u001b[0m         \"\"\"\n\u001b[1;32m    611\u001b[0m         \u001b[0mr\u001b[0m \u001b[0;34m=\u001b[0m \u001b[0mself\u001b[0m\u001b[0;34m.\u001b[0m\u001b[0mpublic_key\u001b[0m\u001b[0;34m.\u001b[0m\u001b[0mget_random_lt_n\u001b[0m\u001b[0;34m(\u001b[0m\u001b[0;34m)\u001b[0m\u001b[0;34m\u001b[0m\u001b[0m\n\u001b[0;32m--> 612\u001b[0;31m         \u001b[0mr_pow_n\u001b[0m \u001b[0;34m=\u001b[0m \u001b[0mpowmod\u001b[0m\u001b[0;34m(\u001b[0m\u001b[0mr\u001b[0m\u001b[0;34m,\u001b[0m \u001b[0mself\u001b[0m\u001b[0;34m.\u001b[0m\u001b[0mpublic_key\u001b[0m\u001b[0;34m.\u001b[0m\u001b[0mn\u001b[0m\u001b[0;34m,\u001b[0m \u001b[0mself\u001b[0m\u001b[0;34m.\u001b[0m\u001b[0mpublic_key\u001b[0m\u001b[0;34m.\u001b[0m\u001b[0mnsquare\u001b[0m\u001b[0;34m)\u001b[0m\u001b[0;34m\u001b[0m\u001b[0m\n\u001b[0m\u001b[1;32m    613\u001b[0m         \u001b[0mself\u001b[0m\u001b[0;34m.\u001b[0m\u001b[0m__ciphertext\u001b[0m \u001b[0;34m=\u001b[0m \u001b[0mself\u001b[0m\u001b[0;34m.\u001b[0m\u001b[0m__ciphertext\u001b[0m \u001b[0;34m*\u001b[0m \u001b[0mr_pow_n\u001b[0m \u001b[0;34m%\u001b[0m \u001b[0mself\u001b[0m\u001b[0;34m.\u001b[0m\u001b[0mpublic_key\u001b[0m\u001b[0;34m.\u001b[0m\u001b[0mnsquare\u001b[0m\u001b[0;34m\u001b[0m\u001b[0m\n\u001b[1;32m    614\u001b[0m         \u001b[0mself\u001b[0m\u001b[0;34m.\u001b[0m\u001b[0m__is_obfuscated\u001b[0m \u001b[0;34m=\u001b[0m \u001b[0;32mTrue\u001b[0m\u001b[0;34m\u001b[0m\u001b[0m\n",
      "\u001b[0;32m~/.local/lib/python3.5/site-packages/phe/util.py\u001b[0m in \u001b[0;36mpowmod\u001b[0;34m(a, b, c)\u001b[0m\n\u001b[1;32m     46\u001b[0m         \u001b[0;32mreturn\u001b[0m \u001b[0;36m1\u001b[0m\u001b[0;34m\u001b[0m\u001b[0m\n\u001b[1;32m     47\u001b[0m     \u001b[0;32mif\u001b[0m \u001b[0;32mnot\u001b[0m \u001b[0mHAVE_GMP\u001b[0m \u001b[0;32mor\u001b[0m \u001b[0mmax\u001b[0m\u001b[0;34m(\u001b[0m\u001b[0ma\u001b[0m\u001b[0;34m,\u001b[0m \u001b[0mb\u001b[0m\u001b[0;34m,\u001b[0m \u001b[0mc\u001b[0m\u001b[0;34m)\u001b[0m \u001b[0;34m<\u001b[0m \u001b[0m_USE_MOD_FROM_GMP_SIZE\u001b[0m\u001b[0;34m:\u001b[0m\u001b[0;34m\u001b[0m\u001b[0m\n\u001b[0;32m---> 48\u001b[0;31m         \u001b[0;32mreturn\u001b[0m \u001b[0mpow\u001b[0m\u001b[0;34m(\u001b[0m\u001b[0ma\u001b[0m\u001b[0;34m,\u001b[0m \u001b[0mb\u001b[0m\u001b[0;34m,\u001b[0m \u001b[0mc\u001b[0m\u001b[0;34m)\u001b[0m\u001b[0;34m\u001b[0m\u001b[0m\n\u001b[0m\u001b[1;32m     49\u001b[0m     \u001b[0;32melse\u001b[0m\u001b[0;34m:\u001b[0m\u001b[0;34m\u001b[0m\u001b[0m\n\u001b[1;32m     50\u001b[0m         \u001b[0;32mreturn\u001b[0m \u001b[0mint\u001b[0m\u001b[0;34m(\u001b[0m\u001b[0mgmpy2\u001b[0m\u001b[0;34m.\u001b[0m\u001b[0mpowmod\u001b[0m\u001b[0;34m(\u001b[0m\u001b[0ma\u001b[0m\u001b[0;34m,\u001b[0m \u001b[0mb\u001b[0m\u001b[0;34m,\u001b[0m \u001b[0mc\u001b[0m\u001b[0;34m)\u001b[0m\u001b[0;34m)\u001b[0m\u001b[0;34m\u001b[0m\u001b[0m\n",
      "\u001b[0;31mKeyboardInterrupt\u001b[0m: "
     ]
    }
   ],
   "source": [
    "net_glob,train_loder,test_loader=get_net_and_loader(dataset=dataset,mode=\"ALL\")\n",
    "w=net_glob.cpu().state_dict()\n",
    "\n",
    "from tqdm import tqdm\n",
    "\n",
    "for key,value in w.items():\n",
    "    npv=value.numpy().flatten()\n",
    "    for item in tqdm(npv):\n",
    "        out=public_key.encrypt(item.astype(np.float64))\n",
    "    #%time out = list(map(lambda item: public_key.encrypt(item.astype(np.float64)), npv))\n",
    "    \n",
    "    \n",
    "    print(len(out))\n",
    "    \n",
    "    #size=npv.shape\n",
    "# data = dict({key:public_key.encrypt(value.numpy()) for key,value in w.items()})\n",
    "# data"
   ]
  },
  {
   "cell_type": "code",
   "execution_count": 67,
   "metadata": {},
   "outputs": [
    {
     "name": "stdout",
     "output_type": "stream",
     "text": [
      "<map object at 0x7ff2a48dd6d8>\n"
     ]
    }
   ],
   "source": [
    "npv=value.numpy()\n",
    "def f(x):\n",
    "    print(x)\n",
    "    return x\n",
    "r = map(f, npv)\n",
    "print(np.array(r))"
   ]
  },
  {
   "cell_type": "code",
   "execution_count": 104,
   "metadata": {},
   "outputs": [
    {
     "name": "stdout",
     "output_type": "stream",
     "text": [
      "10\n",
      "[<phe.paillier.EncryptedNumber object at 0x7ff2a48d2a58>\n",
      " <phe.paillier.EncryptedNumber object at 0x7ff2a48d2fd0>\n",
      " <phe.paillier.EncryptedNumber object at 0x7ff2a48d7438>\n",
      " <phe.paillier.EncryptedNumber object at 0x7ff2a48d7908>\n",
      " <phe.paillier.EncryptedNumber object at 0x7ff2a48d2dd8>\n",
      " <phe.paillier.EncryptedNumber object at 0x7ff2a48d2e80>\n",
      " <phe.paillier.EncryptedNumber object at 0x7ff2a48d7f98>\n",
      " <phe.paillier.EncryptedNumber object at 0x7ff2a48d2ef0>\n",
      " <phe.paillier.EncryptedNumber object at 0x7ff2a48d2e10>\n",
      " <phe.paillier.EncryptedNumber object at 0x7ff2a48d29e8>]\n"
     ]
    }
   ],
   "source": [
    "npv=value.numpy().flatten()\n",
    "out = list(map(lambda item: public_key.encrypt(item.astype(np.float64)), npv))\n",
    "print(np.array(out))"
   ]
  },
  {
   "cell_type": "code",
   "execution_count": 105,
   "metadata": {},
   "outputs": [
    {
     "name": "stdout",
     "output_type": "stream",
     "text": [
      "CPU times: user 1.3 s, sys: 4 ms, total: 1.31 s\n",
      "Wall time: 1.3 s\n"
     ]
    }
   ],
   "source": [
    "%time out = list(map(lambda item: public_key.encrypt(item.astype(np.float64)), npv))"
   ]
  },
  {
   "cell_type": "code",
   "execution_count": 102,
   "metadata": {},
   "outputs": [
    {
     "name": "stdout",
     "output_type": "stream",
     "text": [
      "CPU times: user 1.29 s, sys: 0 ns, total: 1.29 s\n",
      "Wall time: 1.28 s\n"
     ]
    }
   ],
   "source": [
    "%time out = list(public_key.encrypt(item.astype(np.float64)) for item in npv)"
   ]
  },
  {
   "cell_type": "code",
   "execution_count": null,
   "metadata": {},
   "outputs": [],
   "source": [
    "import numpy as np"
   ]
  },
  {
   "cell_type": "code",
   "execution_count": 26,
   "metadata": {},
   "outputs": [
    {
     "name": "stdout",
     "output_type": "stream",
     "text": [
      "<PaillierPublicKey 746a13f920>\n",
      "b'\\x80\\x03cphe.paillier\\nPaillierPublicKey\\nq\\x00)\\x81q\\x01}q\\x02(X\\x07\\x00\\x00\\x00nsquareq\\x03\\x8b\\x00\\x02\\x00\\x00\\x19D3\\xbf?\\x81H\\xfa4\\x14\\xcd\\xaeI1\\xd9\\x07GJC\\xea\\xadC\\xa5\\x0c\\x16\\xa6\\x93\\x9aCv\\xe3\\x91\\x97!\\xd7\\xcbC2\\xe6\\xaa\\x9b\\xaa\\t\\xba\\xb1Q\\x03\\xc4\\xc9\\xf0L\\xee\\xb11\\xe7\\xee\\xdc\\xcc\\xd7\\x8d{\\xe2\\xad#F!\\xb5o\\xfd\\x8dYp\\x9e\\x8dC\\x91\\x00\\x1c\\xc7\\xb5\\xa7f\\xe9\\t`\\x0c{\\\\\\x02 \\xf1}\\xb3\\x99?\\xf9\\xd8\\x9c\\xe1R\\xf3)\\xb5\\xfd%\\r\\xd2\\x02\\xb6L\\xe0f\\x0cwTL\\x03\\x15Fr~\\x0b\\xb8\\x08?u\\x82\\xe0\\'^\\xa4\\xc1\\xc8\\xe8\\xbdz\\x99\\x14\\xdb0Acn}\\x9c\\x82:\\x86\\x13J\\x7fj@\\x06\\xf3\\xb3k>\\xda\\xe8_}\\x1b\\xeb\\xa1\\x12\\x12\\xa1\\xb6v2>\\xe5\\xf81\\x91\\x053\\x05\"88\\x83\\xb9\\xeb\\x1d\\xf6\\xfa\\xf5\\x9a\\xc6\\\\\\xfc\\xc7\\xe5\\x98\\x9e\\xb7\\xe4\\xfa?%\\xde\\x04\\xd2r(j\\xc9\\x0c C\\xebc\\xf74\\xed\\x8ai\\xeee\\xa0\\x86U9\\x18.\\xd2x\\x14\\xc8\\x11\\x8a\\x14^n#\\x9f\\x8e\\xaaa\\x07Z\\xc5\\xef\\xb9\\xd5%\\xd2;\\xa2d=\\xa9{ \\x8d\\xd4\\xabx\\xabH\\x01\\xd2\\xab\\xb7\\xe4\\xbb\\xfdQ7\\xca\\xe7\\xcb\\x0c\\xce[\\xa8#eA\\x00\\xb5o=\\xd4B\\xf5\\x08,\\x1b7\\x80\\xe9\\xae\\xfda\\xc6qyPy-\\xe8Ojy\\x1e\\xa9>\\xa0\\x0f\\xbej\\x0c(\\xba\\xc0\\x9e\\xed5(\\xc7\\xe9\\x02\\xea\\xa5\\xcb\\xaf\\xf6n\\xc84\\xe9H\\x12\\x94\\r\\xbb?/\\x91\\x05\\x0f\\x81J\\xe2\\x11lW8\\x1d\\xd5\\xdf\\xef\\xd0\\xe6HH\\xf8\\xfad\\xe1\\xaf\\xa4\\x8c2H\\xd4O\\xe3+\\xfd\\xe1\\x1f \\xdfW\\x98\\x96\\xeb\\x8bw\\xcc/\\x93\\x80\\xe4.\\x1aQ\\x10\\xfb(\\xbfn\\xb8\\x8e\\xb9\\xe7\\x02c\\xb5tt\\x0f\\xef\\xe6.t\\x88\\x95@)\\xd8U\\x11\\xf2H\\xb6d\\xd6t\\x98,`\\xdd\\xb6[\\x1a\\x0eQ-\\x18\\x803,\\xa6R\\xca@\\xbd`*\\xa9k\\x00\\xa2\\x7f\\xce\\n\\x0cF\\xe5\\xea\\xa5\\x93\\xbeE\\x84\\x1b/\\xf5\\x9cK\\xf0\\xf9\\xe8\\x9bX\\x0e\\x98\\xfc|\\xd3\\x9a\\x1d!\\x00\\xde\\x97\\xb8\\xaa\\x03)\\xad\\xb9\\xa97M\\xf0\\xbd\\\\S\\x93i\\xbd\\xe1\\xc8\\xc6\\x19\\x0bN\\x98\\xe9\\xd56\\xf9vp`rX\\x01\\x00\\x00\\x00nq\\x04\\x8b\\x01\\x01\\x00\\x00\\xfbE\\xcb\\x08t\\xa0_\\xe7A\\x82\\x9b\\x96\\x9a\\xe4\\x15\\x95\\x8f\\xcb\\x1e\\x1a\\xad\\x98\\xbc\\xff\\xf3}L;\\x98\\xb5J\\x0fpE?s\\xb6\\xdc\\x8fEM\\xb5\\xadi\\'o\\xa7:=V\\xe1R\\xc6\\xbc\\xc0\\xe9\\xbdC\\tw\\x84\\x15x\\x03\\xca%\\x83\\xe2\\xaf\\x93^\\xf6\\x9f\\xa3\\xe6\\xab\\xfb5\\xdd\\xf6+\\xd1\\x86\\n\\x0e\\xd3^\\xeb~B[\\x02+\\xeaA\\xfa\\xb3\\x91\\t\\xd8\\x11\\xb7\\x00\\x90\\xc3\\x98\\x94\\xd7k 4\\x9f\\xb3\\xfb\\xddk\\x12]\\xb7\\xde%\\xa8\\xf6@\\xe5\\xeb\\xc7?44d\\xd6\\xc7\\xfd\\xd8\\x1d\\x07\\xaf\\xf8\\x18\\x19[\\xe5n\\xa3\\x08\\x11\\xe0\\'\\xfb\\xdcJ\\xc9?\\xbb\\x9a\\x02^]\\xb9\"\\xcf\\x84\\xd5\\xca8\\xbe\\x14\\x17\\xc57\\xe6%\\x11n\\x90]8v\\xa9\\xf9\\x98l\\xb4\\xc8\\x9dQ;\\xdd1\\\\/I7\\x1f\\xfb\\xac\\xd3u\\x89#}\\xf7\\x9c\\xdc\\x1f\\x9d\\xa8\\x98P\\x04\\xfc\\xbfU$\\nM\\xbb\\xea>\\xff\\xb1\\x1b\\xb7>\\xa3\\x96:~\\x82\\x93\\xac!\\xf6w\\xf1\\xf0\\xe2\\x88z\\x8b\\xbc\\xec\\xfe\\xfe\\x0e\\x06Z\\xe30\\x12\\x7f\\n\\x83\\x1d\\xab\\x00X\\x07\\x00\\x00\\x00max_intq\\x05\\x8b\\x00\\x01\\x00\\x00\\xfd\\xc1CX\\xd1\\x8a\\xca\\xf7\\x15\\xd632\\xde\\xf6\\xb11\\x85\\xee\\xb4\\x08\\x8f\\xdd>UQ\\x7f\\x19i\\xdd\\x91\\xc3\\xafzlj&\\x92I\\x85l\\xc4\\x91\\xe4\\xcd\\xb7\\xcf7\\xbei\\xc7\\xf5p\\x97\\xe9\\xeaM?\\xc1\\xad\\',\\x07(\\x01\\xeea\\xd6\\xa0:1\\xca\\xfc\\xdf\\x8b\\xf7\\xe3Sg\\xf4\\xfcc\\xf0,\\xae\\x04\\xf1tN*\\x16\\xc9\\x00\\xb9\\xf8\\x15\\xfe;\\xdb\\xad\\xf2\\x05=\\x000A\\x881\\x9d\\xce\\n\\xbc\\xdf;\\xa9\\xf4#\\x06\\x1f=J\\xb7\\xe2\\xfcjL\\xf9\\x97j\\x11\\xbcvG\\xed\\xa9\\x9d\\xb4W:\\xa8]\\x08\\xc9\\xa1\\xcf\\x8b\\xad\\x05\\xa0b\\xfe\\x9e\\xc3\\xed\\xbf\\x933V\\x1f\\x1f\\x93\\x0bE,G\\xee\\x12\\xea\\x06]\\xecg\\xf7a\\xb0$0\\x1fh\\'\\xe3\\xfd2$<\\x984\\x1bi\\xf4e\\xc9\\x0f\\xc3g\\n\\xa99\\xf1\\xd1-a\\xd4\\xa7\\x89I\\xb5\\x89\\x8d\\xdd\\x1a\\xac\\xfe?\\xc7\\xb6X\\xc4\\x93\\xa3\\xbf\\xff\\xe5\\xb3\\xe7\\x14\\xe1\\xdch\\x7f+1\\xe4\\xb5\\xfc\\'\\xfb\\xfa\\xa0-~.\\x94\\xf9T\\xaa\\xaf\\xac\\xc8K\\x10\\x06\\xd5X\\xd6\\t9X\\x01\\x00\\x00\\x00gq\\x06\\x8b\\x01\\x01\\x00\\x00\\xfcE\\xcb\\x08t\\xa0_\\xe7A\\x82\\x9b\\x96\\x9a\\xe4\\x15\\x95\\x8f\\xcb\\x1e\\x1a\\xad\\x98\\xbc\\xff\\xf3}L;\\x98\\xb5J\\x0fpE?s\\xb6\\xdc\\x8fEM\\xb5\\xadi\\'o\\xa7:=V\\xe1R\\xc6\\xbc\\xc0\\xe9\\xbdC\\tw\\x84\\x15x\\x03\\xca%\\x83\\xe2\\xaf\\x93^\\xf6\\x9f\\xa3\\xe6\\xab\\xfb5\\xdd\\xf6+\\xd1\\x86\\n\\x0e\\xd3^\\xeb~B[\\x02+\\xeaA\\xfa\\xb3\\x91\\t\\xd8\\x11\\xb7\\x00\\x90\\xc3\\x98\\x94\\xd7k 4\\x9f\\xb3\\xfb\\xddk\\x12]\\xb7\\xde%\\xa8\\xf6@\\xe5\\xeb\\xc7?44d\\xd6\\xc7\\xfd\\xd8\\x1d\\x07\\xaf\\xf8\\x18\\x19[\\xe5n\\xa3\\x08\\x11\\xe0\\'\\xfb\\xdcJ\\xc9?\\xbb\\x9a\\x02^]\\xb9\"\\xcf\\x84\\xd5\\xca8\\xbe\\x14\\x17\\xc57\\xe6%\\x11n\\x90]8v\\xa9\\xf9\\x98l\\xb4\\xc8\\x9dQ;\\xdd1\\\\/I7\\x1f\\xfb\\xac\\xd3u\\x89#}\\xf7\\x9c\\xdc\\x1f\\x9d\\xa8\\x98P\\x04\\xfc\\xbfU$\\nM\\xbb\\xea>\\xff\\xb1\\x1b\\xb7>\\xa3\\x96:~\\x82\\x93\\xac!\\xf6w\\xf1\\xf0\\xe2\\x88z\\x8b\\xbc\\xec\\xfe\\xfe\\x0e\\x06Z\\xe30\\x12\\x7f\\n\\x83\\x1d\\xab\\x00ub.'\n",
      "<PaillierPublicKey 746a13f920>\n"
     ]
    }
   ],
   "source": [
    "import pickle\n",
    "print(public_key)\n",
    "send_data=pickle.dumps(public_key)\n",
    "print(send_data)\n",
    "public_key_worker=pickle.loads(send_data)\n",
    "print(public_key_worker)"
   ]
  },
  {
   "cell_type": "markdown",
   "metadata": {},
   "source": [
    "## another method"
   ]
  },
  {
   "cell_type": "code",
   "execution_count": null,
   "metadata": {},
   "outputs": [],
   "source": []
  }
 ],
 "metadata": {
  "kernelspec": {
   "display_name": "Python 3",
   "language": "python",
   "name": "python3"
  },
  "language_info": {
   "codemirror_mode": {
    "name": "ipython",
    "version": 3
   },
   "file_extension": ".py",
   "mimetype": "text/x-python",
   "name": "python",
   "nbconvert_exporter": "python",
   "pygments_lexer": "ipython3",
   "version": "3.5.2"
  }
 },
 "nbformat": 4,
 "nbformat_minor": 4
}
