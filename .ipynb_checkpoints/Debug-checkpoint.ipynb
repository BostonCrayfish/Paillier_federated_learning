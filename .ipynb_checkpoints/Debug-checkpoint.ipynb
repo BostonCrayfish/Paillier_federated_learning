{
 "cells": [
  {
   "cell_type": "markdown",
   "metadata": {},
   "source": [
    "## 1. Data Prepare"
   ]
  },
  {
   "cell_type": "code",
   "execution_count": 8,
   "metadata": {},
   "outputs": [
    {
     "name": "stderr",
     "output_type": "stream",
     "text": [
      "100%|██████████| 60000/60000 [00:00<00:00, 1828180.89it/s]\n"
     ]
    }
   ],
   "source": [
    "from models.Trainer import *\n",
    "dataset='mnist'\n",
    "class_num=10\n",
    "\n",
    "net_glob,train_loder,test_loader=get_net_and_loader(dataset=dataset,mode=\"ALL\")\n",
    "\n",
    "traindata=train_loder.dataset.train_data\n",
    "targetdata=train_loder.dataset.train_labels\n",
    "\n",
    "import os\n",
    "from PIL import Image\n",
    "from tqdm import tqdm\n",
    "\n",
    "def save(x,i):\n",
    "    #plt.figure(dpi=80)\n",
    "    #data=np.transpose(x.cpu().numpy(), (1,2,0))\n",
    "    data=x.cpu().numpy()\n",
    "    # plt.imshow(data,cmap='gray') \n",
    "    # plt.axis('off')\n",
    "    # plt.show()\n",
    "    im = Image.fromarray(data)\n",
    "    im.save(i)\n",
    "    \n",
    "dir_name='data/{}/train'.format(dataset)\n",
    "    \n",
    "for i in range(class_num):\n",
    "    child_dir_name='{}/{}/'.format(dir_name,i)\n",
    "    if not os.path.isdir(child_dir_name):\n",
    "        mkdir_p(child_dir_name)\n",
    "    \n",
    "for i in tqdm(range(len(traindata))):\n",
    "    #show(traindata[i],'{}/{}/{}_{}.jpg'.format(dir_name,targetdata[i],targetdata[i],i))\n",
    "    pass\n"
   ]
  },
  {
   "cell_type": "code",
   "execution_count": 9,
   "metadata": {},
   "outputs": [],
   "source": [
    "from models.sampling import *\n",
    "\n",
    "class DatasetSplit(Dataset):\n",
    "    def __init__(self, traindata,targetdata, idxs):\n",
    "        self.traindata = traindata\n",
    "        self.targetdata= targetdata\n",
    "        self.idxs = list(idxs)\n",
    "\n",
    "    def __len__(self):\n",
    "        return len(self.idxs)\n",
    "\n",
    "    def __getitem__(self, item):\n",
    "        print(self.idxs[item])\n",
    "        image, label = self.traindata[self.idxs[item]],self.targetdata[self.idxs[item]]\n",
    "        return image, label\n",
    "    \n",
    "def save_dataset(dataset,dir_name):\n",
    "    traindata = dataset.traindata\n",
    "    targetdata= dataset.targetdata\n",
    "    if not os.path.isdir(dir_name):\n",
    "        mkdir_p(dir_name)\n",
    "    \n",
    "    for i in range(class_num):\n",
    "        child_dir_name='{}/{}/'.format(dir_name,i)\n",
    "        if not os.path.isdir(child_dir_name):\n",
    "            mkdir_p(child_dir_name)\n",
    "    \n",
    "    for i in tqdm(range(len(traindata))):\n",
    "        data=traindata[i].cpu().numpy()\n",
    "        #im = Image.fromarray(data)\n",
    "        #save(traindata[i],'{}/{}/{}_{}.jpg'.format(dir_name,targetdata[i],targetdata[i],i))\n",
    "\n",
    "dict_users = mnist_iid(traindata, 4)\n",
    "\n",
    "for idx in dict_users:\n",
    "    x=DatasetSplit(traindata,targetdata, dict_users[idx])\n",
    "    dir_name='test_data/{}/train/part_{}'.format(dataset,idx)\n",
    "    #save_dataset(x,dir_name)"
   ]
  },
  {
   "cell_type": "markdown",
   "metadata": {},
   "source": [
    "## 2. Socket test"
   ]
  },
  {
   "cell_type": "code",
   "execution_count": 11,
   "metadata": {},
   "outputs": [],
   "source": [
    "import socket\n",
    "sock=socket.socket()\n",
    "sock.connect((\"localhost\",22))"
   ]
  },
  {
   "cell_type": "code",
   "execution_count": 13,
   "metadata": {},
   "outputs": [
    {
     "name": "stdout",
     "output_type": "stream",
     "text": [
      "dict_keys(['layer_hidden.bias', 'layer_hidden.weight', 'layer_input.weight', 'layer_input.bias'])\n",
      "204851\n",
      "dict_keys(['layer_hidden.bias', 'layer_hidden.weight', 'layer_input.bias', 'layer_input.weight'])\n"
     ]
    }
   ],
   "source": [
    "import collections\n",
    "import pandas as pd\n",
    "from io import StringIO\n",
    "import pickle\n",
    "w=net_glob.cpu().state_dict()\n",
    "w=dict(w)\n",
    "\n",
    "#data = dict({key:value.numpy() for key,value in w.items()})\n",
    "print(w.keys())\n",
    "w1=pickle.dumps(w)\n",
    "print(len(w1))\n",
    "w2=pickle.loads(w1) \n",
    "print(w2.keys())\n",
    "net_glob.load_state_dict(w2)\n"
   ]
  },
  {
   "cell_type": "markdown",
   "metadata": {},
   "source": [
    "## 3. Paillier"
   ]
  },
  {
   "cell_type": "code",
   "execution_count": 17,
   "metadata": {},
   "outputs": [
    {
     "name": "stdout",
     "output_type": "stream",
     "text": [
      "Processing /home/dsjxtjc/2019211333/.cache/pip/wheels/f8/dc/36/dcb6bf0f1b9907e7b710ace63e64d08e7022340909315fdea4/phe-1.4.0-py2.py3-none-any.whl\n",
      "Installing collected packages: phe\n",
      "\u001b[33m  WARNING: The script pheutil is installed in '/home/dsjxtjc/2019211333/.local/bin' which is not on PATH.\n",
      "  Consider adding this directory to PATH or, if you prefer to suppress this warning, use --no-warn-script-location.\u001b[0m\n",
      "Successfully installed phe-1.4.0\n"
     ]
    }
   ],
   "source": [
    "!pip install phe --user"
   ]
  },
  {
   "cell_type": "code",
   "execution_count": 129,
   "metadata": {},
   "outputs": [
    {
     "name": "stdout",
     "output_type": "stream",
     "text": [
      "origin: 6.4\n",
      "<class 'numpy.float64'>\n",
      "encrypt: <phe.paillier.EncryptedNumber object at 0x7ff2a47e96d8>\n",
      "decrypt: 1.2800000000000002\n"
     ]
    }
   ],
   "source": [
    "from phe import paillier\n",
    "from functools import reduce \n",
    "import numpy as np\n",
    "\n",
    "def sum(listdata):\n",
    "    return reduce(lambda x, y: x + y, listdata)\n",
    "\n",
    "x=np.array([1.1,2.2,3.1])\n",
    "print(\"origin: %s\" % (sum(x)))\n",
    "public_key,private_key=paillier.generate_paillier_keypair()\n",
    "encrypt_data=[public_key.encrypt(i) for i in x]\n",
    "\n",
    "print(type(x[0]))\n",
    "encrypt_sum = sum(encrypt_data)\n",
    "print(\"encrypt: %s\" % (encrypt_sum))\n",
    "\n",
    "decrypt_sum=private_key.decrypt(encrypt_sum/4)\n",
    "print(\"decrypt: %s\" % (decrypt_sum))\n"
   ]
  },
  {
   "cell_type": "code",
   "execution_count": 111,
   "metadata": {},
   "outputs": [],
   "source": [
    "net_glob,train_loder,test_loader=get_net_and_loader(dataset=dataset,mode=\"ALL\")\n",
    "w=net_glob.cpu().state_dict()\n",
    "\n",
    "from tqdm import tqdm\n",
    "\n",
    "for key,value in w.items():\n",
    "    npv=value.numpy().flatten()\n",
    "    #for item in tqdm(npv):\n",
    "    #out=public_key.encrypt(item.astype(np.float64))\n",
    "    #%time out = list(map(lambda item: public_key.encrypt(item.astype(np.float64)), npv))\n",
    "    \n",
    "    \n",
    "    #print(len(out))\n",
    "    \n",
    "    #size=npv.shape\n",
    "# data = dict({key:public_key.encrypt(value.numpy()) for key,value in w.items()})\n",
    "# data"
   ]
  },
  {
   "cell_type": "code",
   "execution_count": 67,
   "metadata": {},
   "outputs": [
    {
     "name": "stdout",
     "output_type": "stream",
     "text": [
      "<map object at 0x7ff2a48dd6d8>\n"
     ]
    }
   ],
   "source": [
    "npv=value.numpy()\n",
    "def f(x):\n",
    "    print(x)\n",
    "    return x\n",
    "r = map(f, npv)\n",
    "print(np.array(r))"
   ]
  },
  {
   "cell_type": "code",
   "execution_count": 104,
   "metadata": {},
   "outputs": [
    {
     "name": "stdout",
     "output_type": "stream",
     "text": [
      "10\n",
      "[<phe.paillier.EncryptedNumber object at 0x7ff2a48d2a58>\n",
      " <phe.paillier.EncryptedNumber object at 0x7ff2a48d2fd0>\n",
      " <phe.paillier.EncryptedNumber object at 0x7ff2a48d7438>\n",
      " <phe.paillier.EncryptedNumber object at 0x7ff2a48d7908>\n",
      " <phe.paillier.EncryptedNumber object at 0x7ff2a48d2dd8>\n",
      " <phe.paillier.EncryptedNumber object at 0x7ff2a48d2e80>\n",
      " <phe.paillier.EncryptedNumber object at 0x7ff2a48d7f98>\n",
      " <phe.paillier.EncryptedNumber object at 0x7ff2a48d2ef0>\n",
      " <phe.paillier.EncryptedNumber object at 0x7ff2a48d2e10>\n",
      " <phe.paillier.EncryptedNumber object at 0x7ff2a48d29e8>]\n"
     ]
    }
   ],
   "source": [
    "npv=value.numpy().flatten()\n",
    "out = list(map(lambda item: public_key.encrypt(item.astype(np.float64)), npv))\n",
    "print(np.array(out))"
   ]
  },
  {
   "cell_type": "code",
   "execution_count": 105,
   "metadata": {},
   "outputs": [
    {
     "name": "stdout",
     "output_type": "stream",
     "text": [
      "CPU times: user 1.3 s, sys: 4 ms, total: 1.31 s\n",
      "Wall time: 1.3 s\n"
     ]
    }
   ],
   "source": [
    "%time out = list(map(lambda item: public_key.encrypt(item.astype(np.float64)), npv))"
   ]
  },
  {
   "cell_type": "code",
   "execution_count": 102,
   "metadata": {},
   "outputs": [
    {
     "name": "stdout",
     "output_type": "stream",
     "text": [
      "CPU times: user 1.29 s, sys: 0 ns, total: 1.29 s\n",
      "Wall time: 1.28 s\n"
     ]
    }
   ],
   "source": [
    "%time out = list(public_key.encrypt(item.astype(np.float64)) for item in npv)"
   ]
  },
  {
   "cell_type": "code",
   "execution_count": null,
   "metadata": {},
   "outputs": [],
   "source": [
    "import numpy as np"
   ]
  },
  {
   "cell_type": "code",
   "execution_count": 26,
   "metadata": {},
   "outputs": [
    {
     "name": "stdout",
     "output_type": "stream",
     "text": [
      "<PaillierPublicKey 746a13f920>\n",
      "b'\\x80\\x03cphe.paillier\\nPaillierPublicKey\\nq\\x00)\\x81q\\x01}q\\x02(X\\x07\\x00\\x00\\x00nsquareq\\x03\\x8b\\x00\\x02\\x00\\x00\\x19D3\\xbf?\\x81H\\xfa4\\x14\\xcd\\xaeI1\\xd9\\x07GJC\\xea\\xadC\\xa5\\x0c\\x16\\xa6\\x93\\x9aCv\\xe3\\x91\\x97!\\xd7\\xcbC2\\xe6\\xaa\\x9b\\xaa\\t\\xba\\xb1Q\\x03\\xc4\\xc9\\xf0L\\xee\\xb11\\xe7\\xee\\xdc\\xcc\\xd7\\x8d{\\xe2\\xad#F!\\xb5o\\xfd\\x8dYp\\x9e\\x8dC\\x91\\x00\\x1c\\xc7\\xb5\\xa7f\\xe9\\t`\\x0c{\\\\\\x02 \\xf1}\\xb3\\x99?\\xf9\\xd8\\x9c\\xe1R\\xf3)\\xb5\\xfd%\\r\\xd2\\x02\\xb6L\\xe0f\\x0cwTL\\x03\\x15Fr~\\x0b\\xb8\\x08?u\\x82\\xe0\\'^\\xa4\\xc1\\xc8\\xe8\\xbdz\\x99\\x14\\xdb0Acn}\\x9c\\x82:\\x86\\x13J\\x7fj@\\x06\\xf3\\xb3k>\\xda\\xe8_}\\x1b\\xeb\\xa1\\x12\\x12\\xa1\\xb6v2>\\xe5\\xf81\\x91\\x053\\x05\"88\\x83\\xb9\\xeb\\x1d\\xf6\\xfa\\xf5\\x9a\\xc6\\\\\\xfc\\xc7\\xe5\\x98\\x9e\\xb7\\xe4\\xfa?%\\xde\\x04\\xd2r(j\\xc9\\x0c C\\xebc\\xf74\\xed\\x8ai\\xeee\\xa0\\x86U9\\x18.\\xd2x\\x14\\xc8\\x11\\x8a\\x14^n#\\x9f\\x8e\\xaaa\\x07Z\\xc5\\xef\\xb9\\xd5%\\xd2;\\xa2d=\\xa9{ \\x8d\\xd4\\xabx\\xabH\\x01\\xd2\\xab\\xb7\\xe4\\xbb\\xfdQ7\\xca\\xe7\\xcb\\x0c\\xce[\\xa8#eA\\x00\\xb5o=\\xd4B\\xf5\\x08,\\x1b7\\x80\\xe9\\xae\\xfda\\xc6qyPy-\\xe8Ojy\\x1e\\xa9>\\xa0\\x0f\\xbej\\x0c(\\xba\\xc0\\x9e\\xed5(\\xc7\\xe9\\x02\\xea\\xa5\\xcb\\xaf\\xf6n\\xc84\\xe9H\\x12\\x94\\r\\xbb?/\\x91\\x05\\x0f\\x81J\\xe2\\x11lW8\\x1d\\xd5\\xdf\\xef\\xd0\\xe6HH\\xf8\\xfad\\xe1\\xaf\\xa4\\x8c2H\\xd4O\\xe3+\\xfd\\xe1\\x1f \\xdfW\\x98\\x96\\xeb\\x8bw\\xcc/\\x93\\x80\\xe4.\\x1aQ\\x10\\xfb(\\xbfn\\xb8\\x8e\\xb9\\xe7\\x02c\\xb5tt\\x0f\\xef\\xe6.t\\x88\\x95@)\\xd8U\\x11\\xf2H\\xb6d\\xd6t\\x98,`\\xdd\\xb6[\\x1a\\x0eQ-\\x18\\x803,\\xa6R\\xca@\\xbd`*\\xa9k\\x00\\xa2\\x7f\\xce\\n\\x0cF\\xe5\\xea\\xa5\\x93\\xbeE\\x84\\x1b/\\xf5\\x9cK\\xf0\\xf9\\xe8\\x9bX\\x0e\\x98\\xfc|\\xd3\\x9a\\x1d!\\x00\\xde\\x97\\xb8\\xaa\\x03)\\xad\\xb9\\xa97M\\xf0\\xbd\\\\S\\x93i\\xbd\\xe1\\xc8\\xc6\\x19\\x0bN\\x98\\xe9\\xd56\\xf9vp`rX\\x01\\x00\\x00\\x00nq\\x04\\x8b\\x01\\x01\\x00\\x00\\xfbE\\xcb\\x08t\\xa0_\\xe7A\\x82\\x9b\\x96\\x9a\\xe4\\x15\\x95\\x8f\\xcb\\x1e\\x1a\\xad\\x98\\xbc\\xff\\xf3}L;\\x98\\xb5J\\x0fpE?s\\xb6\\xdc\\x8fEM\\xb5\\xadi\\'o\\xa7:=V\\xe1R\\xc6\\xbc\\xc0\\xe9\\xbdC\\tw\\x84\\x15x\\x03\\xca%\\x83\\xe2\\xaf\\x93^\\xf6\\x9f\\xa3\\xe6\\xab\\xfb5\\xdd\\xf6+\\xd1\\x86\\n\\x0e\\xd3^\\xeb~B[\\x02+\\xeaA\\xfa\\xb3\\x91\\t\\xd8\\x11\\xb7\\x00\\x90\\xc3\\x98\\x94\\xd7k 4\\x9f\\xb3\\xfb\\xddk\\x12]\\xb7\\xde%\\xa8\\xf6@\\xe5\\xeb\\xc7?44d\\xd6\\xc7\\xfd\\xd8\\x1d\\x07\\xaf\\xf8\\x18\\x19[\\xe5n\\xa3\\x08\\x11\\xe0\\'\\xfb\\xdcJ\\xc9?\\xbb\\x9a\\x02^]\\xb9\"\\xcf\\x84\\xd5\\xca8\\xbe\\x14\\x17\\xc57\\xe6%\\x11n\\x90]8v\\xa9\\xf9\\x98l\\xb4\\xc8\\x9dQ;\\xdd1\\\\/I7\\x1f\\xfb\\xac\\xd3u\\x89#}\\xf7\\x9c\\xdc\\x1f\\x9d\\xa8\\x98P\\x04\\xfc\\xbfU$\\nM\\xbb\\xea>\\xff\\xb1\\x1b\\xb7>\\xa3\\x96:~\\x82\\x93\\xac!\\xf6w\\xf1\\xf0\\xe2\\x88z\\x8b\\xbc\\xec\\xfe\\xfe\\x0e\\x06Z\\xe30\\x12\\x7f\\n\\x83\\x1d\\xab\\x00X\\x07\\x00\\x00\\x00max_intq\\x05\\x8b\\x00\\x01\\x00\\x00\\xfd\\xc1CX\\xd1\\x8a\\xca\\xf7\\x15\\xd632\\xde\\xf6\\xb11\\x85\\xee\\xb4\\x08\\x8f\\xdd>UQ\\x7f\\x19i\\xdd\\x91\\xc3\\xafzlj&\\x92I\\x85l\\xc4\\x91\\xe4\\xcd\\xb7\\xcf7\\xbei\\xc7\\xf5p\\x97\\xe9\\xeaM?\\xc1\\xad\\',\\x07(\\x01\\xeea\\xd6\\xa0:1\\xca\\xfc\\xdf\\x8b\\xf7\\xe3Sg\\xf4\\xfcc\\xf0,\\xae\\x04\\xf1tN*\\x16\\xc9\\x00\\xb9\\xf8\\x15\\xfe;\\xdb\\xad\\xf2\\x05=\\x000A\\x881\\x9d\\xce\\n\\xbc\\xdf;\\xa9\\xf4#\\x06\\x1f=J\\xb7\\xe2\\xfcjL\\xf9\\x97j\\x11\\xbcvG\\xed\\xa9\\x9d\\xb4W:\\xa8]\\x08\\xc9\\xa1\\xcf\\x8b\\xad\\x05\\xa0b\\xfe\\x9e\\xc3\\xed\\xbf\\x933V\\x1f\\x1f\\x93\\x0bE,G\\xee\\x12\\xea\\x06]\\xecg\\xf7a\\xb0$0\\x1fh\\'\\xe3\\xfd2$<\\x984\\x1bi\\xf4e\\xc9\\x0f\\xc3g\\n\\xa99\\xf1\\xd1-a\\xd4\\xa7\\x89I\\xb5\\x89\\x8d\\xdd\\x1a\\xac\\xfe?\\xc7\\xb6X\\xc4\\x93\\xa3\\xbf\\xff\\xe5\\xb3\\xe7\\x14\\xe1\\xdch\\x7f+1\\xe4\\xb5\\xfc\\'\\xfb\\xfa\\xa0-~.\\x94\\xf9T\\xaa\\xaf\\xac\\xc8K\\x10\\x06\\xd5X\\xd6\\t9X\\x01\\x00\\x00\\x00gq\\x06\\x8b\\x01\\x01\\x00\\x00\\xfcE\\xcb\\x08t\\xa0_\\xe7A\\x82\\x9b\\x96\\x9a\\xe4\\x15\\x95\\x8f\\xcb\\x1e\\x1a\\xad\\x98\\xbc\\xff\\xf3}L;\\x98\\xb5J\\x0fpE?s\\xb6\\xdc\\x8fEM\\xb5\\xadi\\'o\\xa7:=V\\xe1R\\xc6\\xbc\\xc0\\xe9\\xbdC\\tw\\x84\\x15x\\x03\\xca%\\x83\\xe2\\xaf\\x93^\\xf6\\x9f\\xa3\\xe6\\xab\\xfb5\\xdd\\xf6+\\xd1\\x86\\n\\x0e\\xd3^\\xeb~B[\\x02+\\xeaA\\xfa\\xb3\\x91\\t\\xd8\\x11\\xb7\\x00\\x90\\xc3\\x98\\x94\\xd7k 4\\x9f\\xb3\\xfb\\xddk\\x12]\\xb7\\xde%\\xa8\\xf6@\\xe5\\xeb\\xc7?44d\\xd6\\xc7\\xfd\\xd8\\x1d\\x07\\xaf\\xf8\\x18\\x19[\\xe5n\\xa3\\x08\\x11\\xe0\\'\\xfb\\xdcJ\\xc9?\\xbb\\x9a\\x02^]\\xb9\"\\xcf\\x84\\xd5\\xca8\\xbe\\x14\\x17\\xc57\\xe6%\\x11n\\x90]8v\\xa9\\xf9\\x98l\\xb4\\xc8\\x9dQ;\\xdd1\\\\/I7\\x1f\\xfb\\xac\\xd3u\\x89#}\\xf7\\x9c\\xdc\\x1f\\x9d\\xa8\\x98P\\x04\\xfc\\xbfU$\\nM\\xbb\\xea>\\xff\\xb1\\x1b\\xb7>\\xa3\\x96:~\\x82\\x93\\xac!\\xf6w\\xf1\\xf0\\xe2\\x88z\\x8b\\xbc\\xec\\xfe\\xfe\\x0e\\x06Z\\xe30\\x12\\x7f\\n\\x83\\x1d\\xab\\x00ub.'\n",
      "<PaillierPublicKey 746a13f920>\n"
     ]
    }
   ],
   "source": [
    "import pickle\n",
    "print(public_key)\n",
    "send_data=pickle.dumps(public_key)\n",
    "print(send_data)\n",
    "public_key_worker=pickle.loads(send_data)\n",
    "print(public_key_worker)"
   ]
  },
  {
   "cell_type": "markdown",
   "metadata": {},
   "source": [
    "## another method"
   ]
  },
  {
   "cell_type": "code",
   "execution_count": 127,
   "metadata": {},
   "outputs": [
    {
     "name": "stdout",
     "output_type": "stream",
     "text": [
      "[[0.26641931 0.23950455 0.24695111 ... 0.2281584  0.22932267 0.22305252]\n",
      " [0.23665541 0.26184219 0.23532238 ... 0.21796988 0.2815879  0.28180965]\n",
      " [0.21887119 0.2360568  0.23878546 ... 0.27911238 0.22157779 0.25284009]\n",
      " ...\n",
      " [0.26363078 0.21893347 0.24379093 ... 0.26027533 0.24875589 0.25974491]\n",
      " [0.28219625 0.2137053  0.23014073 ... 0.24931406 0.26459807 0.22210454]\n",
      " [0.2635183  0.27365542 0.23491127 ... 0.28038173 0.23470562 0.22647778]]\n",
      "<phe.paillier.EncryptedNumber object at 0x7ff2a4860710>\n",
      "[0.24325897 0.22729619 0.23224017 0.28474574 0.24495105 0.22136061\n",
      " 0.24321605 0.22279238 0.25405795 0.27206239 0.24071093 0.21480761\n",
      " 0.26336515 0.25207854 0.27602605 0.25146488 0.21808366 0.27591485\n",
      " 0.25787713 0.27906952 0.23391742 0.23650692 0.25673497 0.24349889\n",
      " 0.25449745 0.24297627 0.26850327 0.28316955 0.23168297 0.23992842\n",
      " 0.25965258 0.24482322 0.24652145 0.22104078 0.2181056  0.21983763\n",
      " 0.23620142 0.24440527 0.25320109 0.28202666 0.21501175 0.2644394\n",
      " 0.28247015 0.27693145 0.25179075 0.24757669 0.27383601 0.25662846\n",
      " 0.24131194 0.24933477 0.22695383 0.23299137 0.25012329 0.21366911\n",
      " 0.2642434  0.25841683 0.22399978 0.26055549 0.23664576 0.23135171\n",
      " 0.26240905 0.24694676 0.24705554 0.24048026]\n",
      "<phe.paillier.EncryptedNumber object at 0x7ff2a4860710>\n",
      "[[0.28445182 0.35003586 0.22364636 0.26435119 0.19499618 0.17725081\n",
      "  0.26193208 0.32930212 0.23171138 0.29899137 0.14043966 0.26036102\n",
      "  0.28100783 0.29041128 0.20588488 0.21880803 0.18998392 0.3332123\n",
      "  0.29501379 0.16839269 0.22328422 0.14093873 0.12549892 0.3528789\n",
      "  0.19171533 0.26050255 0.15812262 0.16776492 0.22513946 0.33127842\n",
      "  0.3035039  0.25871569 0.17953167 0.2458826  0.32612485 0.30543217\n",
      "  0.18714698 0.15534863 0.35291656 0.18746221 0.28085117 0.17998784\n",
      "  0.32579308 0.13846359 0.24494341 0.26111496 0.19650095 0.31541284\n",
      "  0.17612143 0.28914799 0.26295284 0.18944468 0.37151428 0.14774388\n",
      "  0.27247288 0.23197586 0.32967455 0.25503259 0.19496382 0.32822676\n",
      "  0.26478625 0.14345463 0.23896149 0.29136703]\n",
      " [0.28873325 0.35602716 0.35020641 0.22378332 0.24183001 0.25740588\n",
      "  0.20707643 0.15106199 0.32976972 0.14617156 0.33231715 0.1517099\n",
      "  0.2507774  0.19392692 0.25708159 0.30072205 0.18050805 0.23090355\n",
      "  0.1739709  0.34540132 0.16586012 0.35417952 0.23210122 0.13587688\n",
      "  0.2652157  0.2402643  0.18997722 0.33915444 0.23877369 0.35185892\n",
      "  0.18825583 0.25432276 0.30476176 0.30133692 0.37003894 0.33540383\n",
      "  0.3067658  0.13481631 0.21933003 0.3186068  0.33902409 0.17900418\n",
      "  0.27326408 0.35481866 0.19378937 0.26027553 0.35721493 0.29774344\n",
      "  0.27896515 0.26480154 0.34448551 0.21358031 0.14639674 0.17559259\n",
      "  0.23748128 0.19119548 0.31799002 0.31913959 0.25867008 0.24543958\n",
      "  0.16719278 0.17321442 0.1469357  0.19989509]\n",
      " [0.20641731 0.16215457 0.23603076 0.28915216 0.36621493 0.31275672\n",
      "  0.23775176 0.18779745 0.25266354 0.33078283 0.14240185 0.28136666\n",
      "  0.2791088  0.19112788 0.17421697 0.23441398 0.30870125 0.37321209\n",
      "  0.19850697 0.26840261 0.31141311 0.30683261 0.24851601 0.37053112\n",
      "  0.21327471 0.19330931 0.21691577 0.30929874 0.16083835 0.32826788\n",
      "  0.28008491 0.3018307  0.27324297 0.31322277 0.33444655 0.26041621\n",
      "  0.17807614 0.24366513 0.25097914 0.13750632 0.21929875 0.34327534\n",
      "  0.30858347 0.33811064 0.19218737 0.35797383 0.15782623 0.30365804\n",
      "  0.33876574 0.33831963 0.16653271 0.19030673 0.314488   0.23003309\n",
      "  0.22344943 0.33714883 0.35358045 0.20775687 0.29283472 0.17200674\n",
      "  0.28393689 0.28380539 0.15502929 0.29031132]\n",
      " [0.25858836 0.1501564  0.33325002 0.29598092 0.23451792 0.27552502\n",
      "  0.24503717 0.19250298 0.25832276 0.31376231 0.30090608 0.26785468\n",
      "  0.19004909 0.32389513 0.15772581 0.17342995 0.26764603 0.31707859\n",
      "  0.3602119  0.32256857 0.29091715 0.36742944 0.13531486 0.29771994\n",
      "  0.33278162 0.19762364 0.17479261 0.28957363 0.16852856 0.37413031\n",
      "  0.16547107 0.31839194 0.31389392 0.28587266 0.3258881  0.3630596\n",
      "  0.15685445 0.25007269 0.26090028 0.20506445 0.15522056 0.1499575\n",
      "  0.1962501  0.18115418 0.14837043 0.28234969 0.1344119  0.26125615\n",
      "  0.28603138 0.19862748 0.22078571 0.19850099 0.34425569 0.26878597\n",
      "  0.36661765 0.32396616 0.19022151 0.15064198 0.25807406 0.28581445\n",
      "  0.24731648 0.21849405 0.37204656 0.26190652]\n",
      " [0.3119507  0.35069014 0.18973466 0.12950577 0.33080888 0.23775567\n",
      "  0.13198287 0.16299218 0.34430813 0.34621986 0.28606056 0.37045299\n",
      "  0.34811168 0.20805127 0.19831008 0.21542976 0.16877035 0.28158279\n",
      "  0.30619005 0.24793071 0.29387294 0.31686713 0.29425866 0.16238951\n",
      "  0.31367128 0.12907039 0.27376874 0.3540618  0.16424364 0.25430379\n",
      "  0.17796874 0.22994946 0.25719089 0.3699914  0.31867838 0.23062015\n",
      "  0.20475708 0.320896   0.31634863 0.30734353 0.26509933 0.19765583\n",
      "  0.15797064 0.30412421 0.25621967 0.24038335 0.16698338 0.13161347\n",
      "  0.17149167 0.36537998 0.365469   0.30580396 0.29241567 0.26471253\n",
      "  0.21823895 0.22398511 0.36177378 0.34701912 0.16245364 0.3038887\n",
      "  0.32624993 0.34360655 0.20966089 0.23151265]\n",
      " [0.30738239 0.15968964 0.24634771 0.28429042 0.2450441  0.15992831\n",
      "  0.24136865 0.14519136 0.17860337 0.26743698 0.24810165 0.1362219\n",
      "  0.36424606 0.29797277 0.16488245 0.33359598 0.16351389 0.25142829\n",
      "  0.35571274 0.31992881 0.31821858 0.28789462 0.31666208 0.31216452\n",
      "  0.29767171 0.17155762 0.17760687 0.16449116 0.32104898 0.35882299\n",
      "  0.35459926 0.23346652 0.19994708 0.35700286 0.35591138 0.24979033\n",
      "  0.32250019 0.19000033 0.19271703 0.33175467 0.34238009 0.1617627\n",
      "  0.24164175 0.34915938 0.15458438 0.25751172 0.3721152  0.20166342\n",
      "  0.17810406 0.28658404 0.30673914 0.20708093 0.37186539 0.21668521\n",
      "  0.18895491 0.33230795 0.37121722 0.15946126 0.31424451 0.1714353\n",
      "  0.33127085 0.29757509 0.17527575 0.23689217]\n",
      " [0.34760741 0.125202   0.31003908 0.30379352 0.26682303 0.14011343\n",
      "  0.18976765 0.24439718 0.19279079 0.32619833 0.16581703 0.19104426\n",
      "  0.31175217 0.15438071 0.12913221 0.18437212 0.29836637 0.32988511\n",
      "  0.26398105 0.37133119 0.29981032 0.18655558 0.25449603 0.24635439\n",
      "  0.30354946 0.16664024 0.1738322  0.30127631 0.14809232 0.32808458\n",
      "  0.35265293 0.35951649 0.14469275 0.18930264 0.19434099 0.18066025\n",
      "  0.12803874 0.32317719 0.22121609 0.12470591 0.1888305  0.25817238\n",
      "  0.34946585 0.20762518 0.3163805  0.34462683 0.27709212 0.16136752\n",
      "  0.32561981 0.19909661 0.25635259 0.35601631 0.15960045 0.3157283\n",
      "  0.24446911 0.28259541 0.20053323 0.14595801 0.3104004  0.16397015\n",
      "  0.28704965 0.16855117 0.34233496 0.28216751]\n",
      " [0.24566964 0.18944893 0.27082323 0.34366681 0.35468449 0.32327253\n",
      "  0.28593582 0.16981803 0.26626259 0.17642583 0.13650205 0.37413347\n",
      "  0.17556282 0.27133277 0.25570689 0.14679835 0.18019879 0.35657673\n",
      "  0.31585405 0.2083833  0.17497953 0.3344148  0.3688208  0.23681513\n",
      "  0.18962503 0.1864232  0.14058264 0.36096467 0.25714453 0.16050148\n",
      "  0.28616917 0.23586418 0.35595841 0.31688448 0.26821788 0.36151034\n",
      "  0.34326957 0.19864677 0.2492327  0.19269193 0.29583504 0.14372501\n",
      "  0.24759689 0.12519117 0.18980542 0.27930905 0.17484838 0.26881202\n",
      "  0.15195622 0.13817576 0.31563887 0.16023824 0.12831058 0.2994148\n",
      "  0.18067707 0.27862375 0.26148708 0.32763781 0.32237557 0.33164394\n",
      "  0.33073415 0.34383418 0.1423122  0.21258913]\n",
      " [0.12866077 0.2100298  0.13977239 0.29555908 0.12866481 0.19850332\n",
      "  0.14875467 0.25219436 0.36789459 0.26818782 0.12643344 0.15699116\n",
      "  0.36142886 0.3529066  0.36823339 0.2172093  0.22771    0.16262135\n",
      "  0.21419427 0.24192921 0.27759672 0.20570211 0.29432851 0.29804558\n",
      "  0.27571912 0.24279598 0.27067893 0.21159663 0.17978746 0.23697581\n",
      "  0.34828097 0.21088986 0.23149583 0.3401623  0.21123539 0.35519693\n",
      "  0.23281607 0.3606174  0.34345933 0.37003362 0.31030269 0.35184899\n",
      "  0.3704232  0.24381072 0.35671802 0.30962393 0.30359412 0.3156274\n",
      "  0.15433061 0.24497512 0.33145891 0.29608362 0.24842452 0.18987923\n",
      "  0.24972076 0.35750769 0.13293705 0.19802539 0.35678752 0.17223129\n",
      "  0.25489328 0.16238647 0.32484666 0.24307722]\n",
      " [0.29601473 0.13547021 0.32395017 0.26325581 0.20889639 0.15166295\n",
      "  0.32005428 0.14682985 0.1566813  0.15305223 0.31724869 0.20197724\n",
      "  0.2997246  0.30661701 0.22027946 0.19435412 0.16238958 0.24107316\n",
      "  0.14063648 0.30887378 0.1522995  0.31620464 0.24200379 0.12592383\n",
      "  0.20625258 0.15878329 0.16035231 0.35888273 0.32083926 0.23301755\n",
      "  0.18744196 0.24827819 0.3490443  0.2301284  0.22451733 0.26581237\n",
      "  0.31202416 0.21346924 0.13393325 0.21672362 0.2323763  0.34623953\n",
      "  0.36411459 0.34773881 0.12745686 0.18190898 0.36721598 0.29815123\n",
      "  0.13368066 0.32409062 0.23860763 0.14035581 0.29237497 0.3474235\n",
      "  0.27480987 0.34795867 0.36152193 0.13097969 0.16120737 0.15095464\n",
      "  0.14294541 0.20152383 0.15218145 0.2009153 ]]\n",
      "<phe.paillier.EncryptedNumber object at 0x7ff2a4860710>\n",
      "[0.25681451 0.12553516 0.17636957 0.30363535 0.36764081 0.21246252\n",
      " 0.16044377 0.27934605 0.21064376 0.12539719]\n",
      "<phe.paillier.EncryptedNumber object at 0x7ff2a4860710>\n"
     ]
    }
   ],
   "source": [
    "import numpy as np\n",
    "\n",
    "net_glob,train_loder,test_loader=get_net_and_loader(dataset=dataset,mode=\"ALL\")\n",
    "w=net_glob.cpu().state_dict()\n",
    "\n",
    "R=np.random.randn(1)\n",
    "encrypt_R=public_key.encrypt(R[0].astype(np.float64))\n",
    "from tqdm import tqdm\n",
    "\n",
    "w_addR = dict({key:value+torch.from_numpy(R).float() for key,value in w.items()})\n",
    "\n",
    "for key,value in w.items():\n",
    "    print(value.numpy()+R)\n",
    "    print(encrypt_R)"
   ]
  },
  {
   "cell_type": "code",
   "execution_count": 116,
   "metadata": {},
   "outputs": [
    {
     "data": {
      "text/plain": [
       "array([-1.22821283])"
      ]
     },
     "execution_count": 116,
     "metadata": {},
     "output_type": "execute_result"
    }
   ],
   "source": []
  },
  {
   "cell_type": "code",
   "execution_count": null,
   "metadata": {},
   "outputs": [],
   "source": []
  }
 ],
 "metadata": {
  "kernelspec": {
   "display_name": "Python 3",
   "language": "python",
   "name": "python3"
  },
  "language_info": {
   "codemirror_mode": {
    "name": "ipython",
    "version": 3
   },
   "file_extension": ".py",
   "mimetype": "text/x-python",
   "name": "python",
   "nbconvert_exporter": "python",
   "pygments_lexer": "ipython3",
   "version": "3.5.2"
  }
 },
 "nbformat": 4,
 "nbformat_minor": 4
}
